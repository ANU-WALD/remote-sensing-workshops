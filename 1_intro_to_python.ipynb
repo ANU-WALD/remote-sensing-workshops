{
 "cells": [
  {
   "cell_type": "markdown",
   "metadata": {},
   "source": [
    "# Introduction to Python\n",
    "\n",
    "This workshop should get you comfortable with Python: launching a notebook, importing libraries (external code), and writing simple code - including operations, loops, conditionals, and functions.\n",
    "\n",
    "It's intended as a simple and interactive introduction to the basics you'll need in this course.  If you're interested in a deeper understanding (or thinking of using Python for an assignment), I suggest also working through the [Software Carpentry lesson on Python]().  Anyone can be good at programming if they practice, and it's a very rewarding skill - so let's get started!\n",
    "\n",
    "## Literal data"
   ]
  },
  {
   "cell_type": "code",
   "execution_count": null,
   "metadata": {},
   "outputs": [],
   "source": [
    "# Lines which start with a \"#\" are comments\n",
    "# the computer ignores them, so they're good for explaining to humans"
   ]
  },
  {
   "cell_type": "code",
   "execution_count": null,
   "metadata": {},
   "outputs": [],
   "source": [
    "# The last thing in a cell is displayed below it:\n",
    "5"
   ]
  },
  {
   "cell_type": "code",
   "execution_count": null,
   "metadata": {},
   "outputs": [],
   "source": [
    "# And we can do maths:\n",
    "2 + 2"
   ]
  },
  {
   "cell_type": "markdown",
   "metadata": {},
   "source": [
    "Python supports many kinds of data including numbers (both integers and floating-point), strings of characters, lists of things, and so on.  Choosing how best to represent your data is sometimes tricky - but for remote sensing it's almost always grids of numbers, which we will cover later."
   ]
  },
  {
   "cell_type": "code",
   "execution_count": null,
   "metadata": {},
   "outputs": [],
   "source": [
    "\"You can add \" + '\"strings\" togther, even with different quotes'"
   ]
  },
  {
   "cell_type": "code",
   "execution_count": null,
   "metadata": {},
   "outputs": [],
   "source": [
    "'Or multiply them like ' + 5 * 'this'  # man, lucky we have operator precedence too!"
   ]
  },
  {
   "cell_type": "code",
   "execution_count": null,
   "metadata": {},
   "outputs": [],
   "source": [
    "# You can't combine incompatible types though:\n",
    "10 + \"Hello\""
   ]
  },
  {
   "cell_type": "code",
   "execution_count": null,
   "metadata": {},
   "outputs": [],
   "source": [
    "# You can also assign them to variables:\n",
    "a = [1, 2, 3]\n",
    "b = [4, 5, 6]\n",
    "c = b + a\n",
    "c"
   ]
  },
  {
   "cell_type": "markdown",
   "metadata": {},
   "source": [
    "## Constructing data\n",
    "\n",
    "Luckily, we don't have to input all our data by hand: we can also 'call' (aka execute, run) predefined functions that load, transform, or save data.  Some are built-in, many more can be imported, and you write your own too."
   ]
  },
  {
   "cell_type": "code",
   "execution_count": null,
   "metadata": {},
   "outputs": [],
   "source": [
    "# For example, reading text files is a standard function:\n",
    "readme = open('README.md', mode='r')  # open in read-only mode\n",
    "lines = readme.readlines()\n",
    "readme.close()\n",
    "lines[:4]"
   ]
  },
  {
   "cell_type": "code",
   "execution_count": null,
   "metadata": {},
   "outputs": [],
   "source": [
    "# That's a bit error-prone though: if you forget to close the file or your program crashes bad things happen.\n",
    "# A \"with\" block automatically cleans up after itself, like so:\n",
    "with open('README.md') as readme:  # if mode is not given, it defaults to read-only\n",
    "    lines = readme.readlines()\n",
    "lines[5:9]"
   ]
  },
  {
   "cell_type": "markdown",
   "metadata": {},
   "source": [
    "Next, let's try writing to a file!  This is also pretty easy, but we should check where it will appear first:"
   ]
  },
  {
   "cell_type": "code",
   "execution_count": null,
   "metadata": {},
   "outputs": [],
   "source": [
    "# This is a \"magic command\" that only works in the Notebook.\n",
    "%pwd  # 'p'rint 'w'orking 'd'irectory"
   ]
  },
  {
   "cell_type": "code",
   "execution_count": null,
   "metadata": {},
   "outputs": [],
   "source": [
    "message = \"If you're reading this from a text file, it worked!\\n\"\n",
    "with open('my_file.txt', mode='w') as out:  # open in write-only mode this time\n",
    "    out.write(message)\n",
    "# Try re-running this cell after editing the message.  What happens?  What does \"\\n\" mean?"
   ]
  },
  {
   "cell_type": "markdown",
   "metadata": {},
   "source": [
    "The only catch is that `message` must be a string:  if you want to write anything else to a file, you have to convert it to text - or use a more specialised function for specific filetypes (.csv, images, gridded data, etc.).\n",
    "\n",
    "###Functions\n",
    "\n",
    "Functions are one of the two indispensible things in programming (the other being data structures), because they let you reuse code.  "
   ]
  }
 ],
 "metadata": {
  "anaconda-cloud": {},
  "kernelspec": {
   "display_name": "Python [conda env:remote-sensing]",
   "language": "python",
   "name": "conda-env-remote-sensing-py"
  },
  "language_info": {
   "codemirror_mode": {
    "name": "ipython",
    "version": 3
   },
   "file_extension": ".py",
   "mimetype": "text/x-python",
   "name": "python",
   "nbconvert_exporter": "python",
   "pygments_lexer": "ipython3",
   "version": "3.6.1"
  }
 },
 "nbformat": 4,
 "nbformat_minor": 1
}
