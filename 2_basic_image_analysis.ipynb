{
 "cells": [
  {
   "cell_type": "markdown",
   "metadata": {},
   "source": [
    "# Image Analysis with Python\n",
    "\n",
    "In this workshop, we're going to do some simple analyses of a Landsat image.\n",
    "\n",
    "First, let's import (load up) the libraries (packages of code) that we want to use for this task:"
   ]
  },
  {
   "cell_type": "code",
   "execution_count": 1,
   "metadata": {
    "collapsed": false
   },
   "outputs": [
    {
     "name": "stderr",
     "output_type": "stream",
     "text": [
      "C:\\Anaconda3\\envs\\remote-sensing\\lib\\site-packages\\IPython\\html.py:14: ShimWarning: The `IPython.html` package has been deprecated since IPython 4.0. You should import from `notebook` instead. `IPython.html.widgets` has moved to `ipywidgets`.\n",
      "  \"`IPython.html.widgets` has moved to `ipywidgets`.\", ShimWarning)\n"
     ]
    }
   ],
   "source": [
    "# NumPy for arrays, and Xarray for gridded geospatial datasets\n",
    "import numpy as np\n",
    "import xarray as xr\n",
    "\n",
    "# To draw some images, and with nice styles\n",
    "import matplotlib.pyplot as plt\n",
    "import seaborn as sns\n",
    "%matplotlib inline"
   ]
  },
  {
   "cell_type": "code",
   "execution_count": 40,
   "metadata": {
    "collapsed": false
   },
   "outputs": [
    {
     "data": {
      "text/plain": [
       "<xarray.Dataset>\n",
       "Dimensions:  (time: 246, x: 4000, y: 4000)\n",
       "Coordinates:\n",
       "  * y        (y) float64 -3.9e+06 -3.9e+06 -3.9e+06 -3.9e+06 -3.9e+06 ...\n",
       "  * x        (x) float64 1.5e+06 1.5e+06 1.5e+06 1.5e+06 1.5e+06 1.5e+06 ...\n",
       "  * time     (time) datetime64[ns] 1999-07-16T23:49:39 1999-07-25T23:43:07 ...\n",
       "Data variables:\n",
       "    crs      int32 ...\n",
       "    blue     (time, y, x) float64 ...\n",
       "    green    (time, y, x) float64 ...\n",
       "    red      (time, y, x) float64 ...\n",
       "    nir      (time, y, x) float64 ...\n",
       "    swir1    (time, y, x) float64 ...\n",
       "    swir2    (time, y, x) float64 ..."
      ]
     },
     "execution_count": 40,
     "metadata": {},
     "output_type": "execute_result"
    }
   ],
   "source": [
    "# Sample URL - full data expected mid-2017\n",
    "image_url = 'http://dapds00.nci.org.au/thredds/dodsC/uc0/rs0_dev/20170215-stacked_sample/LS7_ETM_NBART_3577_15_-40.ncml'\n",
    "img = xr.open_dataset(image_url)\n",
    "img.attrs = {}\n",
    "img"
   ]
  },
  {
   "cell_type": "markdown",
   "metadata": {},
   "source": [
    "In this workshop, we're going to do a lot:\n",
    "\n",
    "- load a Landsat image\n",
    "- slice the array (eg monochrome images, mean colour)\n",
    "- view the image\n",
    "- calculate NDVI\n",
    "- view the NDVI\n",
    "\n",
    "- write code to do all this for a MODIS image"
   ]
  },
  {
   "cell_type": "code",
   "execution_count": 39,
   "metadata": {
    "collapsed": false
   },
   "outputs": [
    {
     "data": {
      "text/plain": [
       "<matplotlib.image.AxesImage at 0x6401d2dba8>"
      ]
     },
     "execution_count": 39,
     "metadata": {},
     "output_type": "execute_result"
    },
    {
     "data": {
      "image/png": "[encoded data removed]",
      "text/plain": [
       "<matplotlib.figure.Figure at 0x6401a27780>"
      ]
     },
     "metadata": {},
     "output_type": "display_data"
    }
   ],
   "source": [
    "# Combining -11 and -12 should have full coverage\n",
    "img.blue.isel(time=-12)[::100, ::100].plot.imshow(robust=True)\n",
    "# TODO: illustrate and explain difference between plt.imshow(...) and (...).plot.imshow()"
   ]
  },
  {
   "cell_type": "code",
   "execution_count": 37,
   "metadata": {
    "collapsed": false
   },
   "outputs": [
    {
     "data": {
      "text/plain": [
       "<xarray.DataArray 'time' (time: 246)>\n",
       "array(['1999-07-16T23:49:39.000000000', '1999-07-25T23:43:07.000000000',\n",
       "       '1999-07-25T23:43:31.000000000', ..., '2002-12-08T23:38:55.000000000',\n",
       "       '2002-12-15T23:44:43.000000000', '2002-12-15T23:45:07.000000000'], dtype='datetime64[ns]')\n",
       "Coordinates:\n",
       "  * time     (time) datetime64[ns] 1999-07-16T23:49:39 1999-07-25T23:43:07 ...\n",
       "Attributes:\n",
       "    long_name: Time, unix time-stamp\n",
       "    standard_name: time\n",
       "    axis: T"
      ]
     },
     "execution_count": 37,
     "metadata": {},
     "output_type": "execute_result"
    }
   ],
   "source": [
    "img.time"
   ]
  },
  {
   "cell_type": "code",
   "execution_count": null,
   "metadata": {
    "collapsed": true
   },
   "outputs": [],
   "source": []
  }
 ],
 "metadata": {
  "anaconda-cloud": {},
  "kernelspec": {
   "display_name": "Python [conda env:remote-sensing]",
   "language": "python",
   "name": "conda-env-remote-sensing-py"
  },
  "language_info": {
   "codemirror_mode": {
    "name": "ipython",
    "version": 3
   },
   "file_extension": ".py",
   "mimetype": "text/x-python",
   "name": "python",
   "nbconvert_exporter": "python",
   "pygments_lexer": "ipython3",
   "version": "3.6.0"
  }
 },
 "nbformat": 4,
 "nbformat_minor": 1
}
