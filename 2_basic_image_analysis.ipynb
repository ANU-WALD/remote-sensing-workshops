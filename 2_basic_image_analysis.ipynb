{
 "cells": [
  {
   "cell_type": "markdown",
   "metadata": {},
   "source": [
    "### *A brief digression on scientific software*\n",
    "\n",
    "Programming languages and tools are generally classified on a (subjective) spectrum: \n",
    "\n",
    "- at a low level, you give detailed instructions and think like a computer\n",
    "- at a medium level, you give instructions in a more natural language (which someone else implemented below)\n",
    "- at a high level, you simply declare what you want and it happens (thanks to someone else below)\n",
    "\n",
    "The tradeoff is computer performance (low-level) against human performance (high-level) - and with the speed of modern computers you should generally use the highest-level tools available.\n",
    "Installing existing software avoids the need to reinvent decades of useful functionality.\n",
    "\n",
    "In Python, the best way to install scientific packages is the `conda` install tool in [Anaconda](https://www.continuum.io/downloads).  Anaconda just like a Python, but bigger - because it's got many science tools by default.\n",
    "\n",
    "Since we're using some specialist tools for geospatial data, we'll use `conda` to create a new environment with everything we need (installing too many Python pacakges into one environment leads to [dependency hell](https://en.wikipedia.org/wiki/Dependency_hell)).  Open a terminal (eg windows key, then type \"cmd\" and enter) and execute the following command:\n",
    "\n",
    "    conda create -n remote-sensing -c conda-forge xarray netcdf4 bottleneck cartopy seaborn dask\n",
    "\n",
    "Finally, in the menu at the top go to `Kernel` -> `Change kernel` -> `Python [conda env:remote-sensing]`.  Now you're ready to go!"
   ]
  },
  {
   "cell_type": "markdown",
   "metadata": {},
   "source": [
    "# Image Analysis with Python\n",
    "\n",
    "In this workshop, we're going to do some simple analyses of a Landsat image.\n",
    "\n",
    "First, let's import (load up) the libraries (packages of code) that we want to use for this task:"
   ]
  },
  {
   "cell_type": "code",
   "execution_count": null,
   "metadata": {
    "collapsed": false
   },
   "outputs": [],
   "source": [
    "# NumPy for arrays, and Xarray for gridded geospatial datasets\n",
    "import numpy as np\n",
    "import xarray as xr\n",
    "\n",
    "# To draw some images, and with nice styles\n",
    "import matplotlib.pyplot as plt\n",
    "import seaborn as sns\n",
    "%matplotlib inline"
   ]
  },
  {
   "cell_type": "code",
   "execution_count": null,
   "metadata": {
    "collapsed": false
   },
   "outputs": [],
   "source": [
    "# TODO: replace test file with an L1 reflectance tile\n",
    "image_url = 'http://dapds00.nci.org.au/thredds/dodsC/ub8/au/FMC/wgs84/WGS84.MCD43A4.2016.h30v12.005.LFMC.nc'\n",
    "\n",
    "img = xr.open_dataset(image_url)\n",
    "img.attrs = {}\n",
    "img"
   ]
  },
  {
   "cell_type": "markdown",
   "metadata": {},
   "source": [
    "In this workshop, we're going to do a lot:\n",
    "\n",
    "- load a Landsat image\n",
    "- slice the array (eg monochrome images, mean colour)\n",
    "- view the image\n",
    "- calculate NDVI\n",
    "- view the NDVI\n",
    "\n",
    "- write code to do all this for a MODIS image"
   ]
  },
  {
   "cell_type": "code",
   "execution_count": null,
   "metadata": {
    "collapsed": false
   },
   "outputs": [],
   "source": [
    "# Draw a map, to prove that it works\n",
    "img.lfmc_mean.isel(time=-2).loc[dict(latitude=slice(-30, -35), longitude=slice(140, 153))].plot()"
   ]
  },
  {
   "cell_type": "code",
   "execution_count": null,
   "metadata": {
    "collapsed": false
   },
   "outputs": [],
   "source": []
  }
 ],
 "metadata": {
  "anaconda-cloud": {},
  "kernelspec": {
   "display_name": "Python [conda env:xarray]",
   "language": "python",
   "name": "conda-env-xarray-py"
  },
  "language_info": {
   "codemirror_mode": {
    "name": "ipython",
    "version": 3
   },
   "file_extension": ".py",
   "mimetype": "text/x-python",
   "name": "python",
   "nbconvert_exporter": "python",
   "pygments_lexer": "ipython3",
   "version": "3.5.2"
  }
 },
 "nbformat": 4,
 "nbformat_minor": 1
}
