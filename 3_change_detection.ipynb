{
 "cells": [
  {
   "cell_type": "markdown",
   "metadata": {},
   "source": [
    "# Change Detection\n",
    "\n",
    "In this workshop, we're going to load up and compare data from before, during and after the 2003 Canberra bushfires - and hopefully detect some changes.  (You may have guessed that bit.  Good work!)  Specifically, we'll work with imagery to cover:\n",
    "\n",
    "- thresholds in reflectance and indicies\n",
    "- calculating the difference between two images\n",
    "- various ways to select subsets of our data\n",
    "- calculating the mean and variance\n",
    "\n",
    "Let's get started (WIP notebook)"
   ]
  },
  {
   "cell_type": "code",
   "execution_count": null,
   "metadata": {},
   "outputs": [],
   "source": [
    "import numpy as np\n",
    "import scipy.io\n",
    "\n",
    "import matplotlib.pyplot as plt\n",
    "import seaborn\n",
    "%matplotlib inline"
   ]
  },
  {
   "cell_type": "markdown",
   "metadata": {},
   "source": [
    "Wait a second - we'll need to fetch our data first!  Today we're using the exact same data as the MatLab tutorials, so [go to this dropbox page](https://www.dropbox.com/sh/443m0s4e9x0m4d4/AAAv_HKT9F1yCm9j4D4T2wDqa/data?dl=0) and download the three `NDVI_(year)_(month).mat` files."
   ]
  },
  {
   "cell_type": "code",
   "execution_count": null,
   "metadata": {},
   "outputs": [],
   "source": [
    "# Checks that the files exist:\n",
    "from os import path\n",
    "if all(path.isfile(f + '.mat') for f in ['NDVI_2002-12', 'NDVI_2002-12', 'NDVI_2002-12']):\n",
    "    print('Yep, you downloaded all the data.  Good work!')\n",
    "else:\n",
    "    raise FileNotFoundError(\"You're missing some of the data!\")"
   ]
  },
  {
   "cell_type": "markdown",
   "metadata": {},
   "source": [
    "As Albert notes in the Matlab tutorials, this is a private file format used by MatLab and not really usable by anyone else.  We're going to use it anyway - to demonstrate that Python is awesome and show you why proper file formats and metadata are important (use them yourself, and complain to people who don't!).\n",
    "\n",
    "We'll be using the `scipy.io` module, which is the input/output tools for [SciPy](https://docs.scipy.org/doc/scipy/reference/tutorial/general.html) - Python's general answer to Matlab for basic scientific and engineering computation.  SciPy operates on Numpy arrays (or anything that can be converted to one), and is very generalised.  Remember: it's usually best to use high-level or specialised tools, and fill any gaps with the more fundamental tools.  But for loading odd formats like Matlab files, it's hard to beat:"
   ]
  },
  {
   "cell_type": "code",
   "execution_count": null,
   "metadata": {},
   "outputs": [],
   "source": [
    "scipy.io.loadmat('NDVI_2002-12')"
   ]
  },
  {
   "cell_type": "markdown",
   "metadata": {},
   "source": [
    "That's... not much metadata, is it?  We know that we just want the NDVI though, so let's load that from each of the `.mat` files we downloaded:"
   ]
  },
  {
   "cell_type": "code",
   "execution_count": null,
   "metadata": {},
   "outputs": [],
   "source": [
    "# NDVI relative to the 2003 Canberra bushfires\n",
    "before = scipy.io.loadmat('NDVI_2002-12')['NDVI']\n",
    "during = scipy.io.loadmat('NDVI_2003-01')['NDVI']\n",
    "after = scipy.io.loadmat('NDVI_2003-02')['NDVI']"
   ]
  },
  {
   "cell_type": "code",
   "execution_count": null,
   "metadata": {},
   "outputs": [],
   "source": [
    "# What can we inspect about this data?\n",
    "# Try typing a name, then a \".\", and pressing the tab key to see a list of attributes and attached functions,\n",
    "# arrows to move (or type a letter) and enter to fill it out.  'tab' completes partial names too!\n",
    "# e.g.: .shape, .size, .max(), .min(), .mean()\n",
    "before.dtype"
   ]
  },
  {
   "cell_type": "markdown",
   "metadata": {},
   "source": [
    "**A brief digression on digital number formats**\n",
    "\n",
    "What you need to know: *use integer types for integer data, floats for fractional data or if you have missing values.  Use dtypes with plenty of bits to avoid errors or imprecise calculations.*\n",
    "\n",
    "Why does the data type matter - aren't all numbers basically the same?\n",
    "\n",
    "That's true in maths class, where you probably learned about integers (whole numbers), rationals (fractions), and stranger things like irrational or complex numbers (which aren't relevant today).  These have lovely properties like \"can have any number of digits\" and \"adding, multiplying, or dividing any two fractions results in a fraction\".  Here's where it gets tricky:\n",
    "\n",
    "- Computers represent everything as bits, meaning that all integers must be represented in binary (aka base-2).  In binary you count `0, 1, 10, 11, 100, 101, ...` instead of `0, 1, 2, 3, 4, 5, ...`.\n",
    "- Computers represent *everything* as bits.  This has to include the sign (positive or negative?), and where one number starts and ends.\n",
    "- The most efficient way to do this is to have an array of numbers, all of which take a fixed number of bytes (a group of eight bits).  The *array* is then labelled as either unsigned (positive-only) or signed (first bit is one == negative).  *This is a good time to ask any questions.*\n",
    "- Choosing your data type is therefore very important - are negative values possible?  Will your maximum value ever be above `2**8=256`?  If so, you need more than one byte!  If you do a calculation with an unrepresentable output, results may vary: \"undefined\" for unsigned ints (ie you get an error, or maybe Bad Things happen), while signed ints will \"wrap around\" to the other end of the range (breaking relationships like `n + 1 > n`!).\n",
    "\n",
    "The `before` array isn't integers though - it's a floating point number (to be exact: little-endian four-byte float, often called 'single-precision', google terms or ask me for details you don't need).  [Floating-point numbers are complicated (wikipedia)](https://en.wikipedia.org/wiki/Floating-point_arithmetic), but the gist is that they use scientific notation in binary, with some special cases for infinity and 'not a number' (eg `1/0 -> nan`).\n",
    "\n",
    "Consider representing numbers in base-10 scientific notation, with at most three characters: one each for the sign, significand, and exponent.  So zero is `0.0 * 10^0`, or `+00`.  Three is `+30` (`3 * 10^0`), and negative three hundred is `-32`... but so is negative three-hundred-and-four!\n",
    "\n",
    "This loss of precision in cumulative over your calculations, but luckily the standard sizes of 32 and 64 bit floats are pretty good - with 32 bits you can measure the distance from Canberra to the equator with a precision of a meter or so, and with 64 bits you can measure from the Sun to Pluto... in *micrometers*.  The usual approach is to store data in 32bit (`f4`), and calculate in `f4` unless you're doing very many or very sensitive calculations.\n",
    "\n",
    "For NDVI, which is mostly between zero and one (and occasionally -4 .. +8), `f4` is verging on overkill.  (We use it anyway because it's standard, and handles missing data natively)\n",
    "\n",
    "## Time to make maps again\n",
    "\n",
    "Well, look at the image at least - it's not a map if you don't have or don't show metadata! (colorbar, location, title, axis labels, etc)"
   ]
  },
  {
   "cell_type": "code",
   "execution_count": null,
   "metadata": {},
   "outputs": [],
   "source": [
    "# This is the terrible way to do it:  can you see the missing data?\n",
    "plt.imshow(during)  # Add your own before and after maps if you want - \"Insert > Insert Cell Below\"\n",
    "\n",
    "## This is a prettier way: remove the \"#\" and rerun to see it.\n",
    "plt.imshow(during, cmap='viridis')\n",
    "plt.colorbar()"
   ]
  },
  {
   "cell_type": "markdown",
   "metadata": {},
   "source": [
    "You will also see some strange features in the during image, including an apparently \n",
    "very straight boundary between low and high NDVI areas. This is because of the \n",
    "monthly 'compositing' done here. There are often more than one image available \n",
    "for any given month, because the Landsat revisit time is 16 days. If an area \n",
    "cannot be seen in one image because of cloud or smoke, the other image in that \n",
    "month can sometimes be used. While useful, it can lead to potentially confusing \n",
    "artefacts such as the line and some 'out of place' pixels.\n",
    "\n",
    "I'll also show the before, during, and after views with the same shape and colour map for a side-by-side comparison."
   ]
  },
  {
   "cell_type": "code",
   "execution_count": null,
   "metadata": {},
   "outputs": [],
   "source": [
    "# Make the figures larger, as if for a presentation\n",
    "seaborn.set_context('talk')\n",
    "\n",
    "# Create a figure with several subplots - three columns\n",
    "figure, ax_s = plt.subplots(ncols=3)\n",
    "plt.title('NDVI in Canberra before, during, and after a bushfire')\n",
    "# For each (data, subplot) pair, show an image of the data on the axis\n",
    "for data, ax in zip([before, during, after], ax_s):\n",
    "    # Note that if we don't specify a colourmap and min and max values,\n",
    "    # missing data is invisible and we can't compare images\n",
    "    ax.imshow(data, cmap='viridis', vmin=0, vmax=0.9)"
   ]
  },
  {
   "cell_type": "markdown",
   "metadata": {},
   "source": [
    "The image is an NDVI image of the Cotter and Namadgi National Park area \n",
    "in the ACT, derived from composite for the month December 2002, a month before \n",
    "bushfires swept through the area. This monthly composite was calculated by combining \n",
    "all available and valid surface reflectances from individual Landsat scenes \n",
    "in Geoscience Australia's atmospherically corrected Landsat Data Cube.\n",
    "\n",
    "You will now see the (former) pine plantations around the Cotter dam in \n",
    "the brightest yellow near the top of the image, and the various dams in dark blue. \n",
    "You will further notice that the pastures outside Namadgi NP have a dark blue \n",
    "colour (i.e. they have low NDVI). That is because the grass had dried off in \n",
    "December 2002.  You wil notice that most of the NDVI had disappeared after the fire.\n",
    "\n",
    "## Change detection\n",
    "\n",
    "As the final step in this exercise, let's make a map showing the severity \n",
    "of burning. One simple way is by mapping the change in NDVI, subtracting the \n",
    "NDVI after the fire from the NDVI before the fire:"
   ]
  },
  {
   "cell_type": "code",
   "execution_count": null,
   "metadata": {},
   "outputs": [],
   "source": [
    "severity = after - before\n",
    "\n",
    "# When showing this change, we'll want a diverging colourmap (because it might be a positive or negative change)\n",
    "# Choose one you like from https://matplotlib.org/users/colormaps.html , and leave a comment about *why*.\n",
    "plt.imshow(severity, cmap='RdYlGn')\n",
    "\n",
    "# Now add a title and color bar so you can interpret the image.\n",
    "# See notebook 2 or the pyplot tutorial if you've forgotten how - https://matplotlib.org/users/pyplot_tutorial.html"
   ]
  },
  {
   "cell_type": "markdown",
   "metadata": {},
   "source": [
    "Depending on the colour scheme you selected, you might notice some white (transparent to background) spots.  These are `nan`, or \"no data\" pixels, where an input pixel in either input was missing.  You should also decide whether this is information that your map *should* display - a yes or a no are both reasonable in this case, but may influence your choice of colours.\n",
    "\n",
    "You will also notice (again, depending on color scheme) some areas where the reduction is negative - in other words, NDVI *increased* between December 2002 and February 2003. Why might that be? Clearly, NDVI differences can occur for more reasons than fire alone. \n",
    "\n",
    "Finally, let's take a look at the areas where there was a lot of change in NDVI:"
   ]
  },
  {
   "cell_type": "code",
   "execution_count": null,
   "metadata": {},
   "outputs": [],
   "source": [
    "# This gives a True/False grid where the condition is calculated for each pixel.\n",
    "# Try playing with some alternative values, and remember which way the sign goes!\n",
    "burned = severity < -0.3\n",
    "# By default, black==True and white==False.  Try some other colour maps if this is unclear.\n",
    "plt.imshow(burned)"
   ]
  },
  {
   "cell_type": "markdown",
   "metadata": {},
   "source": [
    "The increase in NDVI after fire shows that a simple difference map does \n",
    "not always produce the desired result. Overall, change mapping by differencing \n",
    "is a useful approach if the variable interest does not change very dynamically \n",
    "or at least the interpretation is straightforward. On [the Australia's Environment \n",
    "Explorer](http://ausenv.online) you can find several \n",
    "examples of mapping changes in environmental conditions between one year and \n",
    "the next. Have a look at that website now, as we will return to it in future \n",
    "tutorials (Click \"Actual\" in the top right bar and choose \"Change\").\n",
    "\n",
    "## Research Paper Ideas\n",
    "\n",
    "include mapping and interpreting:\n",
    "\n",
    "* burn severity for a bushfire of interest;\n",
    "* changes in inundated area (e.g. a reservoir, lake, wetland or coast) \n",
    "* change in land cover type or forest cover, or a change following a classification on two different dates by yourself.\n",
    "\n",
    "Data you could use for this include 'raw' MODIS or Landsat reflectance data, the Geoscience Australia Water Observations from Space (WOfS) mapping, or any of the data you can see on http://ausenv.online . All these are available from the National Computational Infrastructure, as we will see in the next tutorials.\n",
    "\n",
    "### Finally, a brief note about today's data\n",
    "\n",
    "After talking to a contact at Geoscience Australia, I was able to find a properly labelled copy of the data we've used today.  It is in the standard GDA Albers equal-area projection (ie coordinates in meters, not degrees lat/lon), and includes pixel quality, reflectance, NVDI, and lots of metadata!  If you want to explore this bushfire event in more detail or consider a similar analysis for your research project, I've provided a starting point below."
   ]
  },
  {
   "cell_type": "code",
   "execution_count": null,
   "metadata": {},
   "outputs": [],
   "source": [
    "import xarray as xr\n",
    "data = xr.open_dataset('http://dapds00.nci.org.au/thredds/dodsC/ub8/au/lab/BlackSaturday_2009_landsat5_VIC.nc')\n",
    "data"
   ]
  }
 ],
 "metadata": {
  "anaconda-cloud": {},
  "kernelspec": {
   "display_name": "Python [conda env:remote-sensing]",
   "language": "python",
   "name": "conda-env-remote-sensing-py"
  },
  "language_info": {
   "codemirror_mode": {
    "name": "ipython",
    "version": 3
   },
   "file_extension": ".py",
   "mimetype": "text/x-python",
   "name": "python",
   "nbconvert_exporter": "python",
   "pygments_lexer": "ipython3",
   "version": "3.6.1"
  }
 },
 "nbformat": 4,
 "nbformat_minor": 1
}
