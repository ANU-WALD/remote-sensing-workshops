{
 "cells": [
  {
   "cell_type": "markdown",
   "metadata": {},
   "source": [
    "# Change Detection\n",
    "\n",
    "In this workshop, we're going to load up and compare data from before, during and after the 2003 Canberra bushfires - and hopefully detect some changes.  (You may have guessed that bit.  Good work!)  Specifically, we'll work with imagery to cover:\n",
    "\n",
    "- thresholds in reflectance and indicies\n",
    "- calculating the difference between two images\n",
    "- various ways to select subsets of our data\n",
    "- calculating the mean and variance\n",
    "- finding and loading data from online services"
   ]
  },
  {
   "cell_type": "code",
   "execution_count": null,
   "metadata": {},
   "outputs": [],
   "source": []
  }
 ],
 "metadata": {
  "anaconda-cloud": {},
  "kernelspec": {
   "display_name": "Python [conda env:xarray]",
   "language": "python",
   "name": "conda-env-xarray-py"
  },
  "language_info": {
   "codemirror_mode": {
    "name": "ipython",
    "version": 3
   },
   "file_extension": ".py",
   "mimetype": "text/x-python",
   "name": "python",
   "nbconvert_exporter": "python",
   "pygments_lexer": "ipython3",
   "version": "3.5.2"
  }
 },
 "nbformat": 4,
 "nbformat_minor": 1
}
