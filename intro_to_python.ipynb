{
 "cells": [
  {
   "cell_type": "markdown",
   "metadata": {},
   "source": [
    "# Introduction to Python\n",
    "\n",
    "This workshop should get you comfortable with Python: launching a notebook, importing libraries (external code), and writing simple code - including operations, loops, conditionals, and functions.\n",
    "\n",
    "It's intended as a simple and interactive introduction to the basics you'll need in this course.  If you're interested in a deeper understanding (or thinking of using Python for an assignment), I suggest also working through the [Software Carpentry lesson on Python]().  Anyone can be good at programming if they practice, and it's a very rewarding skill - so let's get started!\n",
    "\n",
    "## Literal data"
   ]
  },
  {
   "cell_type": "code",
   "execution_count": null,
   "metadata": {},
   "outputs": [],
   "source": [
    "# Lines which start with a \"#\" are comments\n",
    "# the computer ignores them, so they're good for explaining to humans"
   ]
  },
  {
   "cell_type": "code",
   "execution_count": null,
   "metadata": {},
   "outputs": [],
   "source": [
    "# The last thing in a cell is displayed below it:\n",
    "5"
   ]
  },
  {
   "cell_type": "code",
   "execution_count": null,
   "metadata": {},
   "outputs": [],
   "source": [
    "# And we can do maths:\n",
    "2 + 2"
   ]
  },
  {
   "cell_type": "markdown",
   "metadata": {},
   "source": [
    "Python supports many kinds of data including numbers (both integers and floating-point), strings of characters, lists of things, and so on.  Choosing how best to represent your data is sometimes tricky - but for remote sensing it's almost always grids of numbers, which we will cover later."
   ]
  },
  {
   "cell_type": "code",
   "execution_count": null,
   "metadata": {},
   "outputs": [],
   "source": [
    "\"You can add \" + '\"strings\" togther, even with different quotes'"
   ]
  },
  {
   "cell_type": "code",
   "execution_count": null,
   "metadata": {},
   "outputs": [],
   "source": [
    "'Or multiply them like ' + 5 * 'this'  # man, lucky we have operator precedence too!"
   ]
  },
  {
   "cell_type": "code",
   "execution_count": null,
   "metadata": {},
   "outputs": [],
   "source": [
    "# You can't combine incompatible types though:\n",
    "10 + \"Hello\""
   ]
  },
  {
   "cell_type": "code",
   "execution_count": null,
   "metadata": {},
   "outputs": [],
   "source": [
    "# You can also assign them to variables:\n",
    "a = [1, 2, 3]\n",
    "b = [4, 5, 6]\n",
    "c = b + a\n",
    "c"
   ]
  },
  {
   "cell_type": "markdown",
   "metadata": {},
   "source": [
    "## Constructing data\n",
    "\n",
    "Luckily, we don't have to input all our data by hand: we can also 'call' (aka execute, run) predefined functions that load, transform, or save data.  Some are built-in, many more can be imported, and you write your own too."
   ]
  },
  {
   "cell_type": "code",
   "execution_count": null,
   "metadata": {},
   "outputs": [],
   "source": [
    "# For example, reading text files is a standard function:\n",
    "readme = open('README.md', mode='r')  # open in read-only mode\n",
    "lines = readme.readlines()\n",
    "readme.close()\n",
    "\n",
    "lines[:4]"
   ]
  },
  {
   "cell_type": "code",
   "execution_count": null,
   "metadata": {},
   "outputs": [],
   "source": [
    "# That's a bit error-prone though: if you forget to close the file or your program crashes bad things happen.\n",
    "# A \"with\" block automatically cleans up after itself, like so:\n",
    "with open('README.md') as readme:  # if mode is not given, it defaults to read-only\n",
    "    lines = readme.readlines()\n",
    "\n",
    "lines[5:9]"
   ]
  },
  {
   "cell_type": "markdown",
   "metadata": {},
   "source": [
    "Next, let's try writing to a file!  This is also pretty easy, but we should check where it will appear first:"
   ]
  },
  {
   "cell_type": "code",
   "execution_count": null,
   "metadata": {},
   "outputs": [],
   "source": [
    "# This is a \"magic command\" that only works in the Notebook.\n",
    "%pwd  # 'p'rint 'w'orking 'd'irectory"
   ]
  },
  {
   "cell_type": "code",
   "execution_count": null,
   "metadata": {},
   "outputs": [],
   "source": [
    "message = \"If you're reading this from a text file,\\n\\n\\nit worked!\\n\"\n",
    "with open('my_file.txt', mode='w') as out:  # open in write-only mode this time\n",
    "    out.write(message)\n",
    "\n",
    "# Execute this cell, then find and open the file you created.  What do you see?\n",
    "# Try re-running this cell after editing the message.  What happens?  What does \"\\n\" mean?"
   ]
  },
  {
   "cell_type": "markdown",
   "metadata": {},
   "source": [
    "The only catch is that `message` must be a string:  if you want to write anything else to a file, you have to convert it to text - or use a more specialised function for specific filetypes (.csv, images, gridded data, etc.).\n",
    "\n",
    "### Functions\n",
    "\n",
    "Functions are one of the two indispensible things in programming (the other being data structures), because they let you structure and reuse code.\n",
    "\n",
    "All functions have zero or more arguments, and return a single value when called (or throw an exception if an error occured).  This is less restrictive than it sounds - if you don't return anything, Python returns a value called `None` to represent absence; and if you want to return multiple values you can return a single *collection* of values (eg `(1, 2, 3, 'abc')`)."
   ]
  },
  {
   "cell_type": "code",
   "execution_count": null,
   "metadata": {},
   "outputs": [],
   "source": [
    "# sum is a built in function which takes a collection of numbers, adds them up, and returns the total\n",
    "sum([1, 2, 3.5])"
   ]
  },
  {
   "cell_type": "code",
   "execution_count": null,
   "metadata": {},
   "outputs": [],
   "source": [
    "# We can also add strings togther\n",
    "'a' + 'b' + 'c'"
   ]
  },
  {
   "cell_type": "code",
   "execution_count": null,
   "metadata": {},
   "outputs": [],
   "source": [
    "# But `sum` only works for numbers - we'll see why in a minute\n",
    "sum(['a', 'b', 'c'])"
   ]
  },
  {
   "cell_type": "markdown",
   "metadata": {},
   "source": [
    "Time to define our own sum function, which will work for numbers *or* strings (but not both at the same time).\n",
    "\n",
    "To define a function, we use the `def` keyword, then the function name, it's arguments in parentheses, and finally a `:`.  The body of the function is indented, and ends at the next unindented line."
   ]
  },
  {
   "cell_type": "code",
   "execution_count": null,
   "metadata": {},
   "outputs": [],
   "source": [
    "def my_sum(collection):\n",
    "    total = collection[0]  # the first element, remember!\n",
    "    for value in collection[1:]:  # all the other elements\n",
    "        total += value\n",
    "    return total\n",
    "    print('You never see this')  # because the function has returned"
   ]
  },
  {
   "cell_type": "code",
   "execution_count": null,
   "metadata": {},
   "outputs": [],
   "source": [
    "# It works!\n",
    "print(my_sum([1, 2, 3]), ', ', my_sum(['a', 'b', 'c']))"
   ]
  },
  {
   "cell_type": "code",
   "execution_count": null,
   "metadata": {},
   "outputs": [],
   "source": [
    "# There's just a few problems...  sum can add up an unordered set, but my_sum needs a sequence\n",
    "print('sum:', sum({1, 2, 3}))\n",
    "# print('my_sum:', my_sum({1, 2, 3}))  # uncomment to see error\n",
    "\n",
    "# and it can sum an empty list, by defaulting to zero\n",
    "print('sum:', sum([]))\n",
    "# print('my_sum:', my_sum([]))  # uncomment to see error"
   ]
  },
  {
   "cell_type": "code",
   "execution_count": null,
   "metadata": {},
   "outputs": [],
   "source": []
  }
 ],
 "metadata": {
  "anaconda-cloud": {},
  "kernelspec": {
   "display_name": "Python [conda root]",
   "language": "python",
   "name": "conda-root-py"
  },
  "language_info": {
   "codemirror_mode": {
    "name": "ipython",
    "version": 3
   },
   "file_extension": ".py",
   "mimetype": "text/x-python",
   "name": "python",
   "nbconvert_exporter": "python",
   "pygments_lexer": "ipython3",
   "version": "3.5.2"
  }
 },
 "nbformat": 4,
 "nbformat_minor": 1
}
