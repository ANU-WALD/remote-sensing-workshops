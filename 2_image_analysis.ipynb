{
 "cells": [
  {
   "cell_type": "markdown",
   "metadata": {},
   "source": [
    "# Image Analysis with Python\n",
    "\n",
    "In this workshop, we're going to do some simple analyses of a Landsat image.  By the end, you will have learned a bit about file formats for images, how to load and visualise gridded data, combined bands, and calculated some indices such as NDVI.\n",
    "\n",
    "Below, I've written some demonstration code to:\n",
    "\n",
    "1. load an aerial image of the ANU campus\n",
    "2. slice the array (eg monochrome images, mean colour)\n",
    "3. view the image\n",
    "4. calculate and view NDVI\n",
    "\n",
    "And after you run this, the second half of the workshop is to write your own analysis of a MODIS image!\n",
    "\n",
    "First, let's import the libraries (packages of code) that we want to use for this task.  `numpy` is the foundation of scientific Python, by supporting very fast numerical operations on arrays.  `matplotlib`, well, is a matlab-style plotting library; we're importing `seaborn` because it makes the default styles much nicer (and has nice statistical graphs, but that's a topic for an optional session later).  `xarray` [(docs)](http://xarray.pydata.org) is the nicest way to work with labelled multidimensional data - specialised, but indispensible for us."
   ]
  },
  {
   "cell_type": "code",
   "execution_count": null,
   "metadata": {},
   "outputs": [],
   "source": [
    "# NumPy for arrays, and Xarray for gridded geospatial datasets\n",
    "import numpy as np\n",
    "import xarray as xr\n",
    "\n",
    "# To draw some images, and with nice styles\n",
    "import matplotlib.pyplot as plt\n",
    "import seaborn as sns\n",
    "%matplotlib inline"
   ]
  },
  {
   "cell_type": "markdown",
   "metadata": {},
   "source": [
    "Next, we'll open our dataset for this workshop - a tile from the Landsat 7 ETM, with a short time axis.\n",
    "We'll also adjust the metadata a bit by relabelling bands with colour names, and discarding the coordinate reference so that all our variables are the same kind of data.\n",
    "\n",
    "*Note that `xarray`, our 'library' for working with gridded data in NetCDF files, is perfectly happy with a URL instead of a filename.\n",
    "Because this data is provided via OpenDAP (**D**ata **A**ccess **P**rotocol), `xarray` will automatically avoid downloading data until you need it - so opening very large collections of files only transfers a little metadata, and taking subsets is usually quite efficient.*"
   ]
  },
  {
   "cell_type": "code",
   "execution_count": null,
   "metadata": {},
   "outputs": [],
   "source": [
    "# Sample URL - full data expected mid-2017\n",
    "data_url = 'http://dapds00.nci.org.au/thredds/dodsC/uc0/rs0_dev/multiple_band_variables/LS7_ETM_NBAR_P54_GANBAR01-002_089_078_2015_153_-26.nc'\n",
    "# Open the dataset, but only download contents as needed - at this stage, metadata\n",
    "data = xr.open_dataset(data_url)\n",
    "# Drop the coordinate reference system variable (it's not a band)\n",
    "data = data.drop('crs')\n",
    "# Translate band numbers to names\n",
    "data.rename({\n",
    "        'band1': 'blue',\n",
    "        'band2': 'green',\n",
    "        'band3': 'red', \n",
    "        'band4': 'nir',\n",
    "        'band5': 'swir1',\n",
    "        'band6': 'swir2'\n",
    "    }, inplace=True)\n",
    "\n",
    "# Display a quick summary\n",
    "data"
   ]
  },
  {
   "cell_type": "markdown",
   "metadata": {},
   "source": [
    "Hmm, what's this?  Where most Python objects display their entire contents, think of numbers or strings, it wouldn't be useful to do that for a whole dataset. We'd also have to download a lot more data - if you see `...` for the data variables, that's because the data hasn't been fetched to your computer yet!\n",
    "\n",
    "Breaking down the summary, we have three parts: dimensions, coordinates, and data variables.\n",
    "\n",
    "TODO expand this explanation"
   ]
  },
  {
   "cell_type": "code",
   "execution_count": null,
   "metadata": {},
   "outputs": [],
   "source": [
    "# TODO:  explain how this is stacking arrays along a new axis\n",
    "arr = data.isel(time=0).to_array(dim='band')\n",
    "arr"
   ]
  },
  {
   "cell_type": "code",
   "execution_count": null,
   "metadata": {},
   "outputs": [],
   "source": [
    "arr.plot.imshow(robust=True, col='band', col_wrap=3)\n",
    "# TODO: illustrate and explain difference between plt.imshow(...) and (...).plot.imshow()"
   ]
  },
  {
   "cell_type": "code",
   "execution_count": null,
   "metadata": {},
   "outputs": [],
   "source": [
    "# Let's check out the time axis (todo - explore metadata in more detail further up or down)\n",
    "data.time"
   ]
  },
  {
   "cell_type": "code",
   "execution_count": null,
   "metadata": {},
   "outputs": [],
   "source": []
  }
 ],
 "metadata": {
  "anaconda-cloud": {},
  "kernelspec": {
   "display_name": "Python [conda env:xarray]",
   "language": "python",
   "name": "conda-env-xarray-py"
  },
  "language_info": {
   "codemirror_mode": {
    "name": "ipython",
    "version": 3
   },
   "file_extension": ".py",
   "mimetype": "text/x-python",
   "name": "python",
   "nbconvert_exporter": "python",
   "pygments_lexer": "ipython3",
   "version": "3.5.2"
  }
 },
 "nbformat": 4,
 "nbformat_minor": 1
}
