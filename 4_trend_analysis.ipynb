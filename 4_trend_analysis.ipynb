{
 "cells": [
  {
   "cell_type": "markdown",
   "metadata": {},
   "source": [
    "# Trend Analysis\n",
    "\n",
    "In this workshop, we're going to explore a 'data cube' - a medium-sized\\* vegetation dataset with x, y, and time dimensions.\n",
    "\n",
    "- What is a data cube anyway?  Is there higher-dimensional data?\n",
    "- Reducing data to a 1D timeseries\n",
    "- Calculating summaries along various dimensions\n",
    "- Dealing with unevenly-spaced observations and missing data\n",
    "- Drawing awesome plots"
   ]
  },
  {
   "cell_type": "code",
   "execution_count": null,
   "metadata": {},
   "outputs": [],
   "source": []
  }
 ],
 "metadata": {
  "anaconda-cloud": {},
  "kernelspec": {
   "display_name": "Python [conda env:xarray]",
   "language": "python",
   "name": "conda-env-xarray-py"
  },
  "language_info": {
   "codemirror_mode": {
    "name": "ipython",
    "version": 3
   },
   "file_extension": ".py",
   "mimetype": "text/x-python",
   "name": "python",
   "nbconvert_exporter": "python",
   "pygments_lexer": "ipython3",
   "version": "3.5.2"
  }
 },
 "nbformat": 4,
 "nbformat_minor": 1
}
